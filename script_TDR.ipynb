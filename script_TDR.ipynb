{
 "cells": [
  {
   "cell_type": "code",
   "execution_count": 58,
   "id": "e84a0e05",
   "metadata": {},
   "outputs": [],
   "source": [
    "import pandas"
   ]
  },
  {
   "cell_type": "code",
   "execution_count": 59,
   "id": "29fc9d3f",
   "metadata": {},
   "outputs": [],
   "source": [
    "import csv"
   ]
  },
  {
   "cell_type": "code",
   "execution_count": 60,
   "id": "949d81fb",
   "metadata": {},
   "outputs": [],
   "source": [
    "from pandas import DataFrame"
   ]
  },
  {
   "cell_type": "code",
   "execution_count": 61,
   "id": "261fce50",
   "metadata": {},
   "outputs": [],
   "source": [
    "df = pandas.read_csv(\"tdr.csv\", usecols=[\"event_data\"])"
   ]
  },
  {
   "cell_type": "code",
   "execution_count": 62,
   "id": "24a1f380",
   "metadata": {},
   "outputs": [],
   "source": [
    "df = df.event_data.str.split(',', expand=True)"
   ]
  },
  {
   "cell_type": "code",
   "execution_count": null,
   "id": "31850b67",
   "metadata": {},
   "outputs": [],
   "source": []
  },
  {
   "cell_type": "code",
   "execution_count": 63,
   "id": "fa9d29b3",
   "metadata": {},
   "outputs": [],
   "source": [
    "df.columns = ['CHARGING-ID', 'GGSN-IP', 'IMEI', 'IMSI', 'SGSN-IP', 'MCC-MNC',\n",
    "       'CHARGING-CHARACTERISTICS', 'SERVICE-IDENTIFIER', 'SERVICE-ID',\n",
    "       'ACCESS-POINT-NAME', 'TERMINATION-CAUSE', 'CONSUMPTION-DATE', 'VOLUME',\n",
    "       'RECEIVED-UOM', 'ACCESS-LOGIN', 'contract_item_external_id',\n",
    "       'contract_id', 'TIME-ZONE', 'BRAND-ID', 'OFFER-ID', 'PACKAGE-ID',\n",
    "       'OFFER-START-DATE', 'OFFER-EXPIRY-DATE', 'UNITS-CONSUMED', 'UOM',\n",
    "       'REMAINING-UNITS', 'GRANTED-SERVICE-UNITS', 'DEVICE-TYPE',\n",
    "       'CHARGE-AMOUNT', 'LIST-CHARGE-AMOUNT', 'LOCAL-TIME-OF-EVENT',\n",
    "       'CHARGING-RESERVATION-ID', 'CONFIRMATION DATE', 'PACKAGE-UOM', 'RAT',\n",
    "       'RATING-EXCEPTION-RSN-CD', 'BILL-YEAR-NUM', 'BILL-MONTH-NUM',\n",
    "       'BILL-CYCLE', 'SERVICE-PKG', 'RATE-PLAN', 'MIN-CD', 'MARKET', 'BAN',\n",
    "       'EXTERNAL-SUB-ID', 'SERVING-SID', 'EVENT-SOURCE', 'EVENT-TYPE',\n",
    "       'SERVICE', 'SERVICE-LEVEL', 'EVENT-NAME', 'RATING-REASON-CODE',\n",
    "       'SESSION-ID', 'CELL-SITE-ID', 'ZONE-FILTER', 'TRANSACTION-TYPE',\n",
    "       'CHARGED-VOLUME', 'SOC-SEQ-NO', 'ALLOWANCE-PREVIOUS-PERIOD',\n",
    "       'NUMBER-OF-CYCLES', 'ALLOWANCE-QUOTA-PERIOD', 'INTERVAL-START-DATE',\n",
    "       'INTERVAL-END-DATE', 'RECURRING-TYPE', 'SERVICE-FILTER-GROUP',\n",
    "       'SHARING-GROUP-NAME', 'MONTHLY-CAP-VALUE',\n",
    "       'MONTHLY-CHARGE-ACCUMULATION', 'ZONE-FILTER-GROUP',\n",
    "       'RATE-PER-SCALE-PERIOD', 'SCALE', 'SCALE-START-LEG', 'SCALE-END-LEG',\n",
    "       'LOCATION-INFO-PART-1', 'LOCATION-INFO-PART-2', 'CURRENT-THRESHOLD',\n",
    "       'SPECIAL-RATING-CONDITION-CD', 'BILL-CUTOVER-INDICATOR',\n",
    "       'PRODUCTION-STATUS ', 'FILE-NM-TXT', 'SERVICE-OPTION-CD', 'SOURCE-ID',\n",
    "       'PMN-ID', 'LOC-CITY-NAME', 'LOC-PROV-CD', 'COUNTRY-CD',\n",
    "       'RATING-PERIOD-MONTH', 'RATING-PERIOD-YR',\n",
    "       'SPECIAL-RATING-CONDITION-SERVICE-PKG', 'THROTTLE', 'UNKNOWN 1','UNKNOWN 2', 'UNKNOWN 3','UNKNOWN 4']"
   ]
  },
  {
   "cell_type": "code",
   "execution_count": 64,
   "id": "b54e45db",
   "metadata": {},
   "outputs": [],
   "source": [
    "writer = pandas.ExcelWriter('TDR_final.xlsx')"
   ]
  },
  {
   "cell_type": "code",
   "execution_count": 65,
   "id": "05b0372e",
   "metadata": {},
   "outputs": [],
   "source": [
    "df.to_excel(writer,'sheet1',index=False)"
   ]
  },
  {
   "cell_type": "code",
   "execution_count": 66,
   "id": "a3ca3ed3",
   "metadata": {},
   "outputs": [],
   "source": [
    "writer.save()"
   ]
  },
  {
   "cell_type": "code",
   "execution_count": 44,
   "id": "96c308a0",
   "metadata": {},
   "outputs": [],
   "source": [
    "#df.head()"
   ]
  },
  {
   "cell_type": "code",
   "execution_count": null,
   "id": "fa873f25",
   "metadata": {},
   "outputs": [],
   "source": []
  },
  {
   "cell_type": "code",
   "execution_count": null,
   "id": "13ce51ad",
   "metadata": {},
   "outputs": [],
   "source": []
  },
  {
   "cell_type": "code",
   "execution_count": null,
   "id": "4ca827dc",
   "metadata": {},
   "outputs": [],
   "source": []
  }
 ],
 "metadata": {
  "kernelspec": {
   "display_name": "Python 3 (ipykernel)",
   "language": "python",
   "name": "python3"
  },
  "language_info": {
   "codemirror_mode": {
    "name": "ipython",
    "version": 3
   },
   "file_extension": ".py",
   "mimetype": "text/x-python",
   "name": "python",
   "nbconvert_exporter": "python",
   "pygments_lexer": "ipython3",
   "version": "3.10.5"
  }
 },
 "nbformat": 4,
 "nbformat_minor": 5
}
