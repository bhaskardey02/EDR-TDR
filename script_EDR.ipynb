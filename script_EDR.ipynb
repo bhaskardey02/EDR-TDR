{
 "cells": [
  {
   "cell_type": "code",
   "execution_count": 22,
   "id": "e84a0e05",
   "metadata": {},
   "outputs": [],
   "source": [
    "import pandas"
   ]
  },
  {
   "cell_type": "code",
   "execution_count": 23,
   "id": "29fc9d3f",
   "metadata": {},
   "outputs": [],
   "source": [
    "import csv"
   ]
  },
  {
   "cell_type": "code",
   "execution_count": 24,
   "id": "949d81fb",
   "metadata": {},
   "outputs": [],
   "source": [
    "from pandas import DataFrame"
   ]
  },
  {
   "cell_type": "code",
   "execution_count": 25,
   "id": "261fce50",
   "metadata": {},
   "outputs": [],
   "source": [
    "df = pandas.read_csv(\"edr.csv\", usecols=[\"event_data\"])"
   ]
  },
  {
   "cell_type": "code",
   "execution_count": 26,
   "id": "24a1f380",
   "metadata": {},
   "outputs": [],
   "source": [
    "df = df.event_data.str.split(',', expand=True)"
   ]
  },
  {
   "cell_type": "code",
   "execution_count": 27,
   "id": "31850b67",
   "metadata": {},
   "outputs": [],
   "source": [
    "df2 = pandas.read_excel('EDR template.xlsx').columns"
   ]
  },
  {
   "cell_type": "code",
   "execution_count": 28,
   "id": "fa9d29b3",
   "metadata": {},
   "outputs": [],
   "source": [
    "df.columns =df2"
   ]
  },
  {
   "cell_type": "code",
   "execution_count": 29,
   "id": "b54e45db",
   "metadata": {},
   "outputs": [],
   "source": [
    "writer = pandas.ExcelWriter('EDR_final.xlsx')"
   ]
  },
  {
   "cell_type": "code",
   "execution_count": 30,
   "id": "05b0372e",
   "metadata": {},
   "outputs": [],
   "source": [
    "df.to_excel(writer,'sheet1',index=False)"
   ]
  },
  {
   "cell_type": "code",
   "execution_count": 31,
   "id": "a3ca3ed3",
   "metadata": {},
   "outputs": [],
   "source": [
    "writer.save()"
   ]
  },
  {
   "cell_type": "code",
   "execution_count": 21,
   "id": "96c308a0",
   "metadata": {},
   "outputs": [],
   "source": [
    "#df.head()"
   ]
  },
  {
   "cell_type": "code",
   "execution_count": null,
   "id": "fa873f25",
   "metadata": {},
   "outputs": [],
   "source": []
  },
  {
   "cell_type": "code",
   "execution_count": null,
   "id": "13ce51ad",
   "metadata": {},
   "outputs": [],
   "source": []
  },
  {
   "cell_type": "code",
   "execution_count": null,
   "id": "4ca827dc",
   "metadata": {},
   "outputs": [],
   "source": []
  }
 ],
 "metadata": {
  "kernelspec": {
   "display_name": "Python 3 (ipykernel)",
   "language": "python",
   "name": "python3"
  },
  "language_info": {
   "codemirror_mode": {
    "name": "ipython",
    "version": 3
   },
   "file_extension": ".py",
   "mimetype": "text/x-python",
   "name": "python",
   "nbconvert_exporter": "python",
   "pygments_lexer": "ipython3",
   "version": "3.10.5"
  }
 },
 "nbformat": 4,
 "nbformat_minor": 5
}
